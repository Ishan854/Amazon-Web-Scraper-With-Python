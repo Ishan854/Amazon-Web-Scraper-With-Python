{
  "nbformat": 4,
  "nbformat_minor": 0,
  "metadata": {
    "colab": {
      "provenance": []
    },
    "kernelspec": {
      "name": "python3",
      "display_name": "Python 3"
    },
    "language_info": {
      "name": "python"
    }
  },
  "cells": [
    {
      "cell_type": "code",
      "execution_count": null,
      "metadata": {
        "id": "bGHms9eDJh_z"
      },
      "outputs": [],
      "source": [
        "#import libraries\n",
        "from bs4 import BeautifulSoup\n",
        "import requests\n",
        "import time\n",
        "import datetime\n",
        "\n",
        "import smtplib\n",
        "\n"
      ]
    },
    {
      "cell_type": "code",
      "source": [
        "\n",
        "\n",
        "URL = 'https://www.amazon.in/JOLOCHIP-LAST-CHIP-CHALLENGE/dp/B09QXKT3LZ/?_encoding=UTF8&pd_rd_w=EZPs6&content-id=amzn1.sym.6f281490-30fd-497f-b00e-d384179ad8c4&pf_rd_p=6f281490-30fd-497f-b00e-d384179ad8c4&pf_rd_r=8DH46S6XF5SPRD52262K&pd_rd_wg=ywlmz&pd_rd_r=1be716a3-61f8-40b4-bf12-9bc37a6169ca&ref_=pd_gw_trq_ed_15cnuq8n'\n",
        "\n",
        "headers = {\"User-Agent\": \"Mozilla/5.0 (Windows NT 10.0; Win64; x64) AppleWebKit/537.36 (KHTML, like Gecko) Chrome/111.0.0.0 Safari/537.36\"}\n",
        "\n",
        "page = requests.get(URL, headers=headers)\n",
        "\n",
        "soup1 = BeautifulSoup(page.content, \"html.parser\")\n",
        "\n",
        "soup2 = BeautifulSoup(soup1.prettify(), \"html.parser\")\n",
        "\n",
        "title = soup2.find(id='productTitle').get_text().strip()\n",
        "price = soup2.find(class_='a-price-whole').get_text().strip()\n",
        "print(title)\n",
        "print(price)\n"
      ],
      "metadata": {
        "colab": {
          "base_uri": "https://localhost:8080/"
        },
        "id": "2wzmTM94Jpk0",
        "outputId": "4635abe4-4980-4aea-eb43-bd21a9e0ee9c"
      },
      "execution_count": null,
      "outputs": [
        {
          "output_type": "stream",
          "name": "stdout",
          "text": [
            "JOLOCHIP - LAST CHIP CHALLENGE\n",
            "199\n",
            "                          \n",
            "                           .\n"
          ]
        }
      ]
    },
    {
      "cell_type": "code",
      "source": [
        "import datetime\n",
        "today = datetime.date.today()\n",
        "print(today)"
      ],
      "metadata": {
        "colab": {
          "base_uri": "https://localhost:8080/"
        },
        "id": "ZB9maSAPJzXP",
        "outputId": "f8173dfc-3eb6-4d6f-9a92-c48135ab6561"
      },
      "execution_count": null,
      "outputs": [
        {
          "output_type": "stream",
          "name": "stdout",
          "text": [
            "2023-04-02\n"
          ]
        }
      ]
    },
    {
      "cell_type": "code",
      "source": [
        "import csv \n",
        "\n",
        "header = ['Title', 'Price', 'Date']\n",
        "data = [title, price, today]\n",
        "with open('AmazonWebScrapper.csv','w', newline='', encoding='UTF8') as f:\n",
        "    writer = csv.writer(f)\n",
        "    writer.writerow(header)\n",
        "    writer.writerow(data)"
      ],
      "metadata": {
        "id": "1CAAt7LLJ6cv"
      },
      "execution_count": null,
      "outputs": []
    },
    {
      "cell_type": "code",
      "source": [
        "import pandas as pd \n",
        "df = pd.read_csv(r'/content/AmazonWebScrapper.csv')\n",
        "print(df)\n"
      ],
      "metadata": {
        "colab": {
          "base_uri": "https://localhost:8080/"
        },
        "id": "NJnMh1lvKOef",
        "outputId": "a8905db8-2c7d-4168-d98a-19dd6b9bec69"
      },
      "execution_count": null,
      "outputs": [
        {
          "output_type": "stream",
          "name": "stdout",
          "text": [
            "                            Title  \\\n",
            "0  JOLOCHIP - LAST CHIP CHALLENGE   \n",
            "\n",
            "                                               Price        Date  \n",
            "0  199\\n                          \\n             ...  2023-04-02  \n"
          ]
        }
      ]
    },
    {
      "cell_type": "code",
      "source": [
        "with open('AmazonWebScrapper.csv','a+', newline='', encoding='UTF8') as f:\n",
        "    writer = csv.writer(f)\n",
        "    writer.writerow(data)"
      ],
      "metadata": {
        "id": "7RLskuNiKg-3"
      },
      "execution_count": null,
      "outputs": []
    },
    {
      "cell_type": "code",
      "source": [
        "def check_price():\n",
        "    URL = 'https://www.amazon.in/JOLOCHIP-LAST-CHIP-CHALLENGE/dp/B09QXKT3LZ/?_encoding=UTF8&pd_rd_w=EZPs6&content-id=amzn1.sym.6f281490-30fd-497f-b00e-d384179ad8c4&pf_rd_p=6f281490-30fd-497f-b00e-d384179ad8c4&pf_rd_r=8DH46S6XF5SPRD52262K&pd_rd_wg=ywlmz&pd_rd_r=1be716a3-61f8-40b4-bf12-9bc37a6169ca&ref_=pd_gw_trq_ed_15cnuq8n'\n",
        "\n",
        "    headers = {\"User-Agent\": \"Mozilla/5.0 (Windows NT 10.0; Win64; x64) AppleWebKit/537.36 (KHTML, like Gecko) Chrome/111.0.0.0 Safari/537.36\"}\n",
        "\n",
        "    page = requests.get(URL, headers=headers)\n",
        "\n",
        "    soup1 = BeautifulSoup(page.content, \"html.parser\")\n",
        "\n",
        "    soup2 = BeautifulSoup(soup1.prettify(), \"html.parser\")\n",
        "\n",
        "    title = soup2.find(id='productTitle').get_text().strip()\n",
        "    price = soup2.find(class_='a-price-whole').get_text().strip()\n",
        "    \n",
        "    import datetime\n",
        "    today = datetime.date.today()\n",
        "    import csv \n",
        "\n",
        "    header = ['Title', 'Price', 'Date']\n",
        "    data = [title, price, today]\n",
        "    with open('AmazonWebScrapper.csv','a+', newline='', encoding='UTF8') as f:\n",
        "        writer = csv.writer(f)\n",
        "        writer.writerow(data)"
      ],
      "metadata": {
        "id": "as1ukjF_KnmX"
      },
      "execution_count": null,
      "outputs": []
    },
    {
      "cell_type": "code",
      "source": [
        "while(True):\n",
        "    check_price()\n",
        "    time.sleep(86400)"
      ],
      "metadata": {
        "colab": {
          "base_uri": "https://localhost:8080/",
          "height": 201
        },
        "id": "mfw3e1VHKsw4",
        "outputId": "4f2ee783-a42c-4fb3-ecaf-308f63b0897e"
      },
      "execution_count": null,
      "outputs": [
        {
          "output_type": "error",
          "ename": "KeyboardInterrupt",
          "evalue": "ignored",
          "traceback": [
            "\u001b[0;31m---------------------------------------------------------------------------\u001b[0m",
            "\u001b[0;31mKeyboardInterrupt\u001b[0m                         Traceback (most recent call last)",
            "\u001b[0;32m<ipython-input-15-c17967dbb56a>\u001b[0m in \u001b[0;36m<cell line: 2>\u001b[0;34m()\u001b[0m\n\u001b[1;32m      1\u001b[0m \u001b[0;32mwhile\u001b[0m\u001b[0;34m(\u001b[0m\u001b[0;32mTrue\u001b[0m\u001b[0;34m)\u001b[0m\u001b[0;34m:\u001b[0m\u001b[0;34m\u001b[0m\u001b[0;34m\u001b[0m\u001b[0m\n\u001b[1;32m      2\u001b[0m     \u001b[0mcheck_price\u001b[0m\u001b[0;34m(\u001b[0m\u001b[0;34m)\u001b[0m\u001b[0;34m\u001b[0m\u001b[0;34m\u001b[0m\u001b[0m\n\u001b[0;32m----> 3\u001b[0;31m     \u001b[0mtime\u001b[0m\u001b[0;34m.\u001b[0m\u001b[0msleep\u001b[0m\u001b[0;34m(\u001b[0m\u001b[0;36m86400\u001b[0m\u001b[0;34m)\u001b[0m\u001b[0;34m\u001b[0m\u001b[0;34m\u001b[0m\u001b[0m\n\u001b[0m",
            "\u001b[0;31mKeyboardInterrupt\u001b[0m: "
          ]
        }
      ]
    },
    {
      "cell_type": "code",
      "source": [
        "import pandas as pd \n",
        "df = pd.read_csv(r'/content/AmazonWebScrapper.csv')\n",
        "print(df)\n"
      ],
      "metadata": {
        "colab": {
          "base_uri": "https://localhost:8080/"
        },
        "id": "sP4WxljjK1lH",
        "outputId": "d9060d60-7990-4e4a-cb66-f116ab3adfdb"
      },
      "execution_count": null,
      "outputs": [
        {
          "output_type": "stream",
          "name": "stdout",
          "text": [
            "                             Title  \\\n",
            "0   JOLOCHIP - LAST CHIP CHALLENGE   \n",
            "1   JOLOCHIP - LAST CHIP CHALLENGE   \n",
            "2   JOLOCHIP - LAST CHIP CHALLENGE   \n",
            "3   JOLOCHIP - LAST CHIP CHALLENGE   \n",
            "4   JOLOCHIP - LAST CHIP CHALLENGE   \n",
            "5   JOLOCHIP - LAST CHIP CHALLENGE   \n",
            "6   JOLOCHIP - LAST CHIP CHALLENGE   \n",
            "7   JOLOCHIP - LAST CHIP CHALLENGE   \n",
            "8   JOLOCHIP - LAST CHIP CHALLENGE   \n",
            "9   JOLOCHIP - LAST CHIP CHALLENGE   \n",
            "10  JOLOCHIP - LAST CHIP CHALLENGE   \n",
            "11  JOLOCHIP - LAST CHIP CHALLENGE   \n",
            "\n",
            "                                                Price        Date  \n",
            "0   199\\n                          \\n             ...  2023-04-02  \n",
            "1   199\\n                          \\n             ...  2023-04-02  \n",
            "2   199\\n                          \\n             ...  2023-04-02  \n",
            "3   199\\n                          \\n             ...  2023-04-02  \n",
            "4   199\\n                          \\n             ...  2023-04-02  \n",
            "5   199\\n                          \\n             ...  2023-04-02  \n",
            "6   199\\n                          \\n             ...  2023-04-02  \n",
            "7   199\\n                          \\n             ...  2023-04-02  \n",
            "8   199\\n                          \\n             ...  2023-04-02  \n",
            "9   199\\n                          \\n             ...  2023-04-02  \n",
            "10  199\\n                          \\n             ...  2023-04-02  \n",
            "11  199\\n                          \\n             ...  2023-04-02  \n"
          ]
        }
      ]
    },
    {
      "cell_type": "code",
      "source": [
        "def send_mail():\n",
        "    server = smtplib.SMTP_SSL('smtp.gmail.com',465)\n",
        "    server.ehlo()\n",
        "    #server.starttls()\n",
        "    server.ehlo()\n",
        "    server.login('srivastava.ishan854@gmail.com','xxxxxxxxxxxxxx')\n",
        "    \n",
        "    subject = \"The Shirt you want is below $15! Now is your chance to buy!\"\n",
        "    body = \"Ishan, This is the moment we have been waiting for. Now is your chance to pick up the shirt of your dreams. Don't mess it up! Link here: https://www.amazon.com/Funny-Data-Systems-Business-Analyst/dp/B07FNW9FGJ/ref=sr_1_3?dchild=1&keywords=data+analyst+tshirt&qid=1626655184&sr=8-3\"\n",
        "   \n",
        "    msg = f\"Subject: {subject}\\n\\n{body}\"\n",
        "    \n",
        "    server.sendmail(\n",
        "        'srivastava.ishan854@gmail.com',\n",
        "        msg\n",
        "     \n",
        "    )"
      ],
      "metadata": {
        "id": "J-6uU4X7RDnr"
      },
      "execution_count": null,
      "outputs": []
    }
  ]
}